{
 "cells": [
  {
   "cell_type": "code",
   "execution_count": 6,
   "metadata": {},
   "outputs": [
    {
     "name": "stdout",
     "output_type": "stream",
     "text": [
      "251 days, 15:43:12.961997\n",
      "21742992.961997\n",
      "21742992\n"
     ]
    }
   ],
   "source": [
    "import datetime\n",
    "start_date = datetime.datetime(2018,6,1)\n",
    "end_date = datetime.datetime.now()\n",
    "\n",
    "date_diff = end_date - start_date\n",
    "print(date_diff)\n",
    "print(date_diff.total_seconds())\n",
    "\n",
    "import math\n",
    "print(math.floor(date_diff.total_seconds()))\n"
   ]
  }
 ],
 "metadata": {
  "kernelspec": {
   "display_name": "Python 3",
   "language": "python",
   "name": "python3"
  },
  "language_info": {
   "codemirror_mode": {
    "name": "ipython",
    "version": 3
   },
   "file_extension": ".py",
   "mimetype": "text/x-python",
   "name": "python",
   "nbconvert_exporter": "python",
   "pygments_lexer": "ipython3",
   "version": "3.7.1"
  }
 },
 "nbformat": 4,
 "nbformat_minor": 2
}
