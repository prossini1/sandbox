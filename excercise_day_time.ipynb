{
 "cells": [
  {
   "cell_type": "code",
   "execution_count": 1,
   "metadata": {},
   "outputs": [],
   "source": [
    "#write a script that calculates the day of the year for the current date and time\n",
    "\n",
    "#The script must output both the DOY as an integer and the fraction of the fraction of the day\n"
   ]
  },
  {
   "cell_type": "code",
   "execution_count": 7,
   "metadata": {},
   "outputs": [
    {
     "name": "stdout",
     "output_type": "stream",
     "text": [
      "2019-02-12 14:45:26.474478\n"
     ]
    }
   ],
   "source": [
    "import datetime\n",
    "import math\n",
    "\n",
    "current_day = datetime.datetime.now()\n",
    "print(current_day)\n"
   ]
  },
  {
   "cell_type": "code",
   "execution_count": 22,
   "metadata": {},
   "outputs": [
    {
     "name": "stdout",
     "output_type": "stream",
     "text": [
      "42 days, 14:45:26.474478\n",
      "42.614889750902776\n",
      "0.6148897509027762\n"
     ]
    }
   ],
   "source": [
    "start_date = datetime.datetime(current_day.year,1,1) #current_day.year es un dato que lo puedo extraer la funcion datetime.now()que ejecute anteriormente\n",
    "\n",
    "diff_days = current_day - start_date\n",
    "print(diff_days)\n",
    "doy_sec = diff_days.total_seconds()/86400 #we need to work in second to capture the fraction of the day\n",
    "print(doy_sec)\n",
    "\n",
    "doy_int = math.floor(doy_sec)\n",
    "doy_fraction = doy_sec - doy_int\n",
    "print(doy_fraction)"
   ]
  },
  {
   "cell_type": "code",
   "execution_count": null,
   "metadata": {},
   "outputs": [],
   "source": []
  }
 ],
 "metadata": {
  "kernelspec": {
   "display_name": "Python 3",
   "language": "python",
   "name": "python3"
  },
  "language_info": {
   "codemirror_mode": {
    "name": "ipython",
    "version": 3
   },
   "file_extension": ".py",
   "mimetype": "text/x-python",
   "name": "python",
   "nbconvert_exporter": "python",
   "pygments_lexer": "ipython3",
   "version": "3.7.1"
  }
 },
 "nbformat": 4,
 "nbformat_minor": 2
}
