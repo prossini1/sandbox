{
 "cells": [
  {
   "cell_type": "code",
   "execution_count": 12,
   "metadata": {},
   "outputs": [
    {
     "name": "stdout",
     "output_type": "stream",
     "text": [
      "C:\\Users\\Pedro Rossini\\Desktop\\Coding\\introcoding-spring-2019\\Datasets\n"
     ]
    }
   ],
   "source": [
    "import os\n",
    "import glob\n",
    "\n",
    "dataset_dir = 'C:/Users/Pedro Rossini/Desktop/Coding/introcoding-spring-2019/Datasets'\n",
    "glob.os.chdir(dataset_dir) # Tells the computer where to go\n",
    "print(glob.os.getcwd()) # Print current working directory"
   ]
  },
  {
   "cell_type": "code",
   "execution_count": 17,
   "metadata": {},
   "outputs": [
    {
     "data": {
      "text/html": [
       "<div>\n",
       "<style scoped>\n",
       "    .dataframe tbody tr th:only-of-type {\n",
       "        vertical-align: middle;\n",
       "    }\n",
       "\n",
       "    .dataframe tbody tr th {\n",
       "        vertical-align: top;\n",
       "    }\n",
       "\n",
       "    .dataframe thead th {\n",
       "        text-align: right;\n",
       "    }\n",
       "</style>\n",
       "<table border=\"1\" class=\"dataframe\">\n",
       "  <thead>\n",
       "    <tr style=\"text-align: right;\">\n",
       "      <th></th>\n",
       "      <th>Date</th>\n",
       "      <th>Tmax</th>\n",
       "      <th>Tmin</th>\n",
       "      <th>Precipitation</th>\n",
       "      <th>Snow</th>\n",
       "    </tr>\n",
       "  </thead>\n",
       "  <tbody>\n",
       "    <tr>\n",
       "      <th>0</th>\n",
       "      <td>01/01/1900</td>\n",
       "      <td>32</td>\n",
       "      <td>13</td>\n",
       "      <td>0.0</td>\n",
       "      <td>0.0</td>\n",
       "    </tr>\n",
       "    <tr>\n",
       "      <th>1</th>\n",
       "      <td>02/01/1900</td>\n",
       "      <td>44</td>\n",
       "      <td>14</td>\n",
       "      <td>0.0</td>\n",
       "      <td>0.0</td>\n",
       "    </tr>\n",
       "    <tr>\n",
       "      <th>2</th>\n",
       "      <td>03/01/1900</td>\n",
       "      <td>53</td>\n",
       "      <td>28</td>\n",
       "      <td>0.0</td>\n",
       "      <td>0.0</td>\n",
       "    </tr>\n",
       "    <tr>\n",
       "      <th>3</th>\n",
       "      <td>04/01/1900</td>\n",
       "      <td>51</td>\n",
       "      <td>24</td>\n",
       "      <td>0.0</td>\n",
       "      <td>0.0</td>\n",
       "    </tr>\n",
       "    <tr>\n",
       "      <th>4</th>\n",
       "      <td>05/01/1900</td>\n",
       "      <td>48</td>\n",
       "      <td>24</td>\n",
       "      <td>0.0</td>\n",
       "      <td>0.0</td>\n",
       "    </tr>\n",
       "  </tbody>\n",
       "</table>\n",
       "</div>"
      ],
      "text/plain": [
       "         Date  Tmax  Tmin  Precipitation  Snow\n",
       "0  01/01/1900    32    13            0.0   0.0\n",
       "1  02/01/1900    44    14            0.0   0.0\n",
       "2  03/01/1900    53    28            0.0   0.0\n",
       "3  04/01/1900    51    24            0.0   0.0\n",
       "4  05/01/1900    48    24            0.0   0.0"
      ]
     },
     "execution_count": 17,
     "metadata": {},
     "output_type": "execute_result"
    }
   ],
   "source": [
    "import pandas as pd\n",
    "\n",
    "data = pd.read_csv('tribune_daily_historical.csv')\n",
    "data.head(5)"
   ]
  },
  {
   "cell_type": "code",
   "execution_count": 19,
   "metadata": {},
   "outputs": [
    {
     "data": {
      "text/plain": [
       "0        32\n",
       "1        44\n",
       "2        53\n",
       "3        51\n",
       "4        48\n",
       "5        52\n",
       "6        51\n",
       "7        54\n",
       "8        46\n",
       "9        50\n",
       "10       44\n",
       "11       49\n",
       "12       64\n",
       "13       60\n",
       "14       45\n",
       "15       40\n",
       "16       48\n",
       "17       48\n",
       "18       59\n",
       "19       50\n",
       "20       51\n",
       "21       58\n",
       "22       65\n",
       "23       45\n",
       "24       41\n",
       "25       45\n",
       "26       28\n",
       "27       22\n",
       "28       51\n",
       "29       41\n",
       "         ..\n",
       "40147    63\n",
       "40148    32\n",
       "40149    27\n",
       "40150    37\n",
       "40151    51\n",
       "40152    20\n",
       "40153    12\n",
       "40154    10\n",
       "40155    15\n",
       "40156    25\n",
       "40157    34\n",
       "40158    51\n",
       "40159    59\n",
       "40160    34\n",
       "40161    39\n",
       "40162    55\n",
       "40163    56\n",
       "40164    49\n",
       "40165    49\n",
       "40166    59\n",
       "40167    64\n",
       "40168    43\n",
       "40169    29\n",
       "40170    21\n",
       "40171    23\n",
       "40172    30\n",
       "40173    36\n",
       "40174    43\n",
       "40175    41\n",
       "40176    43\n",
       "Name: Tmax, Length: 40177, dtype: int64"
      ]
     },
     "execution_count": 19,
     "metadata": {},
     "output_type": "execute_result"
    }
   ],
   "source": [
    "data['Tmax']"
   ]
  },
  {
   "cell_type": "code",
   "execution_count": 28,
   "metadata": {},
   "outputs": [
    {
     "name": "stdout",
     "output_type": "stream",
     "text": [
      "0              Albert Einstein\n",
      "1            Werner Heisenberg\n",
      "2                  Marie Curie\n",
      "3            Guglielmo Marconi\n",
      "4                  Peter Higgs\n",
      "5                 Enrico Fermi\n",
      "6              Ernest Lawrence\n",
      "7                   Paul Dirac\n",
      "8                Lord Rayleigh\n",
      "9      Antoine Henri Becquerel\n",
      "10      Wilhelm Conrad Röntgen\n",
      "11             Hendrik Lorentz\n",
      "12                  Max Planck\n",
      "13                  Niels Bohr\n",
      "14                Gustav Hertz\n",
      "15           Werner Heisenberg\n",
      "16           Erwin Schrödinger\n",
      "17                  Paul Dirac\n",
      "18                Enrico Fermi\n",
      "19               Hideki Yukawa\n",
      "20    Richard Phillips Feynman\n",
      "Name: 0, dtype: object\n"
     ]
    }
   ],
   "source": [
    "names = pd.read_csv('nobel_physics.txt', header=None, sep=',')\n",
    "#names.head(5)\n",
    "#names_list = names[0].values #create a list, modifying the original data tipe .txt\n",
    "names_list = names[0] # keeping the data in the original format\n",
    "print(names_list)"
   ]
  },
  {
   "cell_type": "code",
   "execution_count": 31,
   "metadata": {},
   "outputs": [
    {
     "name": "stdout",
     "output_type": "stream",
     "text": [
      "Albert Einstein\n"
     ]
    }
   ],
   "source": [
    "print(names_list[0])"
   ]
  },
  {
   "cell_type": "code",
   "execution_count": 33,
   "metadata": {},
   "outputs": [
    {
     "name": "stdout",
     "output_type": "stream",
     "text": [
      "Albert Einstein,\n",
      "Werner Heisenberg,\n",
      "Marie Curie,\n",
      "Guglielmo Marconi,\n",
      "Peter Higgs,\n",
      "Enrico Fermi,\n",
      "Ernest Lawrence,\n",
      "Paul Dirac,\n",
      "Lord Rayleigh,\n",
      "Antoine Henri Becquerel,\n",
      "Wilhelm Conrad RÃ¶ntgen,\n",
      "Hendrik Lorentz,\n",
      "Max Planck,\n",
      "Niels Bohr,\n",
      "Gustav Hertz,\n",
      "Werner Heisenberg,\n",
      "Erwin SchrÃ¶dinger,\n",
      "Paul Dirac,\n",
      "Enrico Fermi,\n",
      "Hideki Yukawa,\n",
      "Richard Phillips Feynman\n"
     ]
    }
   ],
   "source": [
    "#Another option for open a file \n",
    "\n",
    "file = open('nobel_physics.txt')\n",
    "names_list2 = file.read()\n",
    "file.close()\n",
    "print(names_list2)"
   ]
  },
  {
   "cell_type": "code",
   "execution_count": 35,
   "metadata": {},
   "outputs": [
    {
     "name": "stdout",
     "output_type": "stream",
     "text": [
      "Albert Einstein,\n",
      "Werner Heisenberg,\n",
      "Marie Curie,\n",
      "Guglielmo Marconi,\n",
      "Peter Higgs,\n",
      "Enrico Fermi,\n",
      "Ernest Lawrence,\n",
      "Paul Dirac,\n",
      "Lord Rayleigh,\n",
      "Antoine Henri Becquerel,\n",
      "Wilhelm Conrad RÃ¶ntgen,\n",
      "Hendrik Lorentz,\n",
      "Max Planck,\n",
      "Niels Bohr,\n",
      "Gustav Hertz,\n",
      "Werner Heisenberg,\n",
      "Erwin SchrÃ¶dinger,\n",
      "Paul Dirac,\n",
      "Enrico Fermi,\n",
      "Hideki Yukawa,\n",
      "Richard Phillips Feynman\n"
     ]
    }
   ],
   "source": [
    "names_list3 = open('nobel_physics.txt').read()\n",
    "print(names_list3)"
   ]
  },
  {
   "cell_type": "code",
   "execution_count": 36,
   "metadata": {},
   "outputs": [
    {
     "name": "stdout",
     "output_type": "stream",
     "text": [
      "['Albert Einstein,', 'Werner Heisenberg,', 'Marie Curie,', 'Guglielmo Marconi,', 'Peter Higgs,', 'Enrico Fermi,', 'Ernest Lawrence,', 'Paul Dirac,', 'Lord Rayleigh,', 'Antoine Henri Becquerel,', 'Wilhelm Conrad RÃ¶ntgen,', 'Hendrik Lorentz,', 'Max Planck,', 'Niels Bohr,', 'Gustav Hertz,', 'Werner Heisenberg,', 'Erwin SchrÃ¶dinger,', 'Paul Dirac,', 'Enrico Fermi,', 'Hideki Yukawa,', 'Richard Phillips Feynman']\n"
     ]
    }
   ],
   "source": [
    "names_list4 = [line.strip('\\n') for line in open('nobel_physics.txt')]\n",
    "print(names_list4)"
   ]
  }
 ],
 "metadata": {
  "kernelspec": {
   "display_name": "Python 3",
   "language": "python",
   "name": "python3"
  },
  "language_info": {
   "codemirror_mode": {
    "name": "ipython",
    "version": 3
   },
   "file_extension": ".py",
   "mimetype": "text/x-python",
   "name": "python",
   "nbconvert_exporter": "python",
   "pygments_lexer": "ipython3",
   "version": "3.7.1"
  }
 },
 "nbformat": 4,
 "nbformat_minor": 2
}
