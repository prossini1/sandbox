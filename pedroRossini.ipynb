{
 "cells": [
  {
   "cell_type": "markdown",
   "metadata": {},
   "source": [
    "## Import data"
   ]
  },
  {
   "cell_type": "code",
   "execution_count": 59,
   "metadata": {},
   "outputs": [],
   "source": [
    "import glob \n",
    "import random\n",
    "import pandas as pd\n",
    "import math\n",
    "glob.os.chdir('C:/Users/Pedro Rossini/Desktop/Coding/introcoding-spring-2019/Datasets')\n",
    "names_list = pd.read_csv('nobel_physics.txt', header=None, sep=',')\n",
    "names_list = names_list[0].values"
   ]
  },
  {
   "cell_type": "markdown",
   "metadata": {},
   "source": [
    "## Run the model"
   ]
  },
  {
   "cell_type": "code",
   "execution_count": 60,
   "metadata": {},
   "outputs": [
    {
     "name": "stdout",
     "output_type": "stream",
     "text": [
      "Select a number of groups\n"
     ]
    },
    {
     "name": "stdin",
     "output_type": "stream",
     "text": [
      " 5\n"
     ]
    },
    {
     "name": "stdout",
     "output_type": "stream",
     "text": [
      "Select a number of members\n"
     ]
    },
    {
     "name": "stdin",
     "output_type": "stream",
     "text": [
      " 3\n"
     ]
    },
    {
     "name": "stdout",
     "output_type": "stream",
     "text": [
      "Your result is\n",
      "Group 1 : Guglielmo Marconi\n",
      "Group 1 : Marie Curie\n",
      "Group 1 : Gustav Hertz\n",
      "Group 2 : Peter Higgs\n",
      "Group 2 : Erwin Schrödinger\n",
      "Group 2 : Paul Dirac\n",
      "Group 3 : Albert Einstein\n",
      "Group 3 : Richard Phillips Feynman\n",
      "Group 3 : Paul Dirac\n",
      "Group 4 : Hendrik Lorentz\n",
      "Group 4 : Guglielmo Marconi\n",
      "Group 4 : Wilhelm Conrad Röntgen\n",
      "Group 5 : Paul Dirac\n",
      "Group 5 : Ernest Lawrence\n",
      "Group 5 : Ernest Lawrence\n"
     ]
    }
   ],
   "source": [
    "print(\"Select a number of groups\")      \n",
    "n_group = int(input()) \n",
    "print(\"Select a number of members\")  \n",
    "n_member = int(input())\n",
    "print(\"Your result is\")\n",
    "\n",
    "if n_group*n_member > 18:\n",
    "    print(\"The total number of requested people exceeds the number of names in the database\")\n",
    "elif n_group == 0 or n_member ==0:\n",
    "    print('The number of groups or members cannot be zero')\n",
    "else:\n",
    "    for i in range(1,n_group+1):\n",
    "        for j in range(1,n_member+1):\n",
    "            Group = random.sample(list(set(names_list)),n_member)\n",
    "            print(\"Group\",i,\":\",Group[0])"
   ]
  }
 ],
 "metadata": {
  "kernelspec": {
   "display_name": "Python 3",
   "language": "python",
   "name": "python3"
  },
  "language_info": {
   "codemirror_mode": {
    "name": "ipython",
    "version": 3
   },
   "file_extension": ".py",
   "mimetype": "text/x-python",
   "name": "python",
   "nbconvert_exporter": "python",
   "pygments_lexer": "ipython3",
   "version": "3.7.1"
  }
 },
 "nbformat": 4,
 "nbformat_minor": 2
}
