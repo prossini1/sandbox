{
 "cells": [
  {
   "cell_type": "code",
   "execution_count": 40,
   "metadata": {},
   "outputs": [
    {
     "name": "stdout",
     "output_type": "stream",
     "text": [
      "C:\\Users\\Pedro Rossini\\Desktop\\Coding\\introcoding-spring-2019\\Datasets\n",
      "['Albert Einstein' 'Werner Heisenberg' 'Marie Curie' 'Guglielmo Marconi'\n",
      " 'Peter Higgs' 'Ernest Lawrence' 'Paul Dirac' 'Lord Rayleigh'\n",
      " 'Antoine Henri Becquerel' 'Wilhelm Conrad Röntgen' 'Hendrik Lorentz'\n",
      " 'Max Planck' 'Niels Bohr' 'Gustav Hertz' 'Erwin Schrödinger'\n",
      " 'Enrico Fermi' 'Hideki Yukawa' 'Richard Phillips Feynman']\n"
     ]
    }
   ],
   "source": [
    "import glob \n",
    "import random\n",
    "import pandas as pd\n",
    "import math\n",
    "dataset_dir = 'C:/Users/Pedro Rossini/Desktop/Coding/introcoding-spring-2019/Datasets'\n",
    "glob.os.chdir(dataset_dir) # Tells the computer where to go\n",
    "print(glob.os.getcwd()) # Print current working directory\n",
    "names_list = pd.read_csv('nobel_physics.txt', header=None, sep=',')\n",
    "names_list = names_list[0].values\n",
    "print(names_list)"
   ]
  },
  {
   "cell_type": "markdown",
   "metadata": {},
   "source": [
    "print(\"Select a number of groups\")      \n",
    "n_group = str(input()) \n",
    "print(\"Select a number of members\")  \n",
    "n_member = str(input())\n",
    "print(\"Your result\")"
   ]
  },
  {
   "cell_type": "code",
   "execution_count": 484,
   "metadata": {},
   "outputs": [
    {
     "name": "stdout",
     "output_type": "stream",
     "text": [
      "18\n",
      "2\n",
      "<class 'int'>\n"
     ]
    }
   ],
   "source": [
    "n_group = 6\n",
    "n_member = 3\n",
    "total_n = n_group*n_member \n",
    "print(total_n)\n",
    "h = round(n_group/n_member)\n",
    "print(h)\n",
    "print(type(n_group))"
   ]
  },
  {
   "cell_type": "code",
   "execution_count": 470,
   "metadata": {},
   "outputs": [
    {
     "name": "stdout",
     "output_type": "stream",
     "text": [
      "float\n"
     ]
    }
   ],
   "source": [
    "if total_n > 18:\n",
    "    print(\"Too big\")\n",
    "#elif n_group == 0:\n",
    "#    print('n_group cannot be zero')\n",
    "elif h != int:\n",
    "    print(\"float\")\n",
    "else:\n",
    "    print('error')"
   ]
  },
  {
   "cell_type": "code",
   "execution_count": 385,
   "metadata": {},
   "outputs": [
    {
     "name": "stdout",
     "output_type": "stream",
     "text": [
      "float\n",
      "<class 'int'>\n"
     ]
    }
   ],
   "source": [
    "a = 10\n",
    "if a >= 1:\n",
    "    print(\"float\")\n",
    "else:\n",
    "    print('int')\n",
    "print(type(a))"
   ]
  },
  {
   "cell_type": "code",
   "execution_count": 521,
   "metadata": {},
   "outputs": [
    {
     "name": "stdout",
     "output_type": "stream",
     "text": [
      "Group: 1 ['Antoine Henri Becquerel', 'Niels Bohr', 'Marie Curie']\n",
      "Group: 1 ['Erwin Schrödinger', 'Guglielmo Marconi', 'Marie Curie']\n",
      "Group: 1 ['Paul Dirac', 'Antoine Henri Becquerel', 'Wilhelm Conrad Röntgen']\n",
      "Group: 2 ['Hideki Yukawa', 'Wilhelm Conrad Röntgen', 'Antoine Henri Becquerel']\n",
      "Group: 2 ['Paul Dirac', 'Antoine Henri Becquerel', 'Richard Phillips Feynman']\n",
      "Group: 2 ['Marie Curie', 'Hideki Yukawa', 'Lord Rayleigh']\n",
      "Group: 3 ['Antoine Henri Becquerel', 'Hendrik Lorentz', 'Peter Higgs']\n",
      "Group: 3 ['Paul Dirac', 'Marie Curie', 'Wilhelm Conrad Röntgen']\n",
      "Group: 3 ['Marie Curie', 'Max Planck', 'Gustav Hertz']\n",
      "Group: 4 ['Erwin Schrödinger', 'Antoine Henri Becquerel', 'Albert Einstein']\n",
      "Group: 4 ['Guglielmo Marconi', 'Werner Heisenberg', 'Lord Rayleigh']\n",
      "Group: 4 ['Niels Bohr', 'Ernest Lawrence', 'Lord Rayleigh']\n",
      "Group: 5 ['Werner Heisenberg', 'Paul Dirac', 'Max Planck']\n",
      "Group: 5 ['Richard Phillips Feynman', 'Albert Einstein', 'Peter Higgs']\n",
      "Group: 5 ['Erwin Schrödinger', 'Enrico Fermi', 'Lord Rayleigh']\n",
      "Group: 6 ['Paul Dirac', 'Antoine Henri Becquerel', 'Hideki Yukawa']\n",
      "Group: 6 ['Gustav Hertz', 'Hideki Yukawa', 'Lord Rayleigh']\n",
      "Group: 6 ['Niels Bohr', 'Ernest Lawrence', 'Enrico Fermi']\n"
     ]
    }
   ],
   "source": [
    "#name_list_str = str(names_list)\n",
    "\n",
    "#elif n_group == 0:\n",
    " #   print(\"n_group cannot be zero\")\n",
    "#elif n_member/n_group is not int:\n",
    " #   print(\"Float\")\n",
    "\n",
    "\n",
    "\n",
    "for i in range(1,n_group+1):\n",
    "    for j in range(1,n_member+1):\n",
    "\n",
    "        #   if total_n > 18:\n",
    " #       print(\"Too big\")\n",
    "        \n",
    "  #  if n_member/n_group is not int:\n",
    "  #      print(\"Float\")\n",
    "   \n",
    "    #if n_group == 0:\n",
    "     #   print(\"n_group cannot be zero\")\n",
    "    \n",
    "    #elif total_n >= 100:\n",
    "        Group = random.sample(list(set(names_list)),n_member)\n",
    "        \n",
    "        print(\"Group:\", i, Group)\n",
    "    #print(\"Group:\",i,Group[1])\n",
    "    #print(\"Group:\",i,Group[2])\n",
    "    #print(\"Group\",'\\n'.join(i),'\\n'.join(Group))\n",
    "    \n",
    "#else:\n",
    "    #print(\"error\")\n"
   ]
  },
  {
   "cell_type": "code",
   "execution_count": 194,
   "metadata": {},
   "outputs": [
    {
     "ename": "TypeError",
     "evalue": "'list' object is not callable",
     "output_type": "error",
     "traceback": [
      "\u001b[1;31m---------------------------------------------------------------------------\u001b[0m",
      "\u001b[1;31mTypeError\u001b[0m                                 Traceback (most recent call last)",
      "\u001b[1;32m<ipython-input-194-9bdf49c22f80>\u001b[0m in \u001b[0;36m<module>\u001b[1;34m\u001b[0m\n\u001b[1;32m----> 1\u001b[1;33m \u001b[0mprint\u001b[0m\u001b[1;33m(\u001b[0m\u001b[0mstr\u001b[0m\u001b[1;33m(\u001b[0m\u001b[0mGroup\u001b[0m\u001b[1;33m(\u001b[0m\u001b[0mn_member\u001b[0m\u001b[1;33m-\u001b[0m\u001b[1;36m1\u001b[0m\u001b[1;33m)\u001b[0m\u001b[1;33m)\u001b[0m\u001b[1;33m)\u001b[0m\u001b[1;33m\u001b[0m\u001b[1;33m\u001b[0m\u001b[0m\n\u001b[0m",
      "\u001b[1;31mTypeError\u001b[0m: 'list' object is not callable"
     ]
    }
   ],
   "source": [
    "  print(str(Group(n_member-1)))"
   ]
  },
  {
   "cell_type": "code",
   "execution_count": null,
   "metadata": {},
   "outputs": [],
   "source": [
    "#group = \n",
    "        rand_itms = random.sample(list(set(names_list)),n_member)\n",
    "        print(rand_itms)\n",
    "        print(n_group(i))\n",
    "    "
   ]
  },
  {
   "cell_type": "code",
   "execution_count": 62,
   "metadata": {},
   "outputs": [
    {
     "data": {
      "text/plain": [
       "['Marie Curie', 'Lord Rayleigh']"
      ]
     },
     "execution_count": 62,
     "metadata": {},
     "output_type": "execute_result"
    }
   ],
   "source": [
    "random.sample(list(set(names_list)),2)"
   ]
  },
  {
   "cell_type": "code",
   "execution_count": null,
   "metadata": {},
   "outputs": [],
   "source": [
    "N_groups = names_list\n",
    "N_members = names_list\n",
    "print(random.choice(N_groups),random.choice(N_members))"
   ]
  },
  {
   "cell_type": "code",
   "execution_count": 522,
   "metadata": {},
   "outputs": [
    {
     "name": "stdout",
     "output_type": "stream",
     "text": [
      "Albert Einstein\n",
      "Werner Heisenberg\n",
      "Marie Curie\n",
      "Guglielmo Marconi\n",
      "Peter Higgs\n",
      "Ernest Lawrence\n",
      "Paul Dirac\n",
      "Lord Rayleigh\n",
      "Antoine Henri Becquerel\n",
      "Wilhelm Conrad Röntgen\n",
      "Hendrik Lorentz\n",
      "Max Planck\n",
      "Niels Bohr\n",
      "Gustav Hertz\n",
      "Erwin Schrödinger\n",
      "Enrico Fermi\n",
      "Hideki Yukawa\n",
      "Richard Phillips Feynman\n"
     ]
    }
   ],
   "source": [
    "for i in names_list:\n",
    "    print(i)"
   ]
  },
  {
   "cell_type": "code",
   "execution_count": 111,
   "metadata": {},
   "outputs": [
    {
     "name": "stdout",
     "output_type": "stream",
     "text": [
      "['Wilhelm Conrad Röntgen', 'Niels Bohr']\n",
      "['Erwin Schrödinger', 'Wilhelm Conrad Röntgen']\n",
      "['Wilhelm Conrad Röntgen', 'Niels Bohr']\n",
      "['Niels Bohr', 'Werner Heisenberg']\n",
      "['Guglielmo Marconi', 'Enrico Fermi']\n",
      "['Richard Phillips Feynman', 'Guglielmo Marconi']\n",
      "['Guglielmo Marconi', 'Enrico Fermi']\n",
      "['Hideki Yukawa', 'Marie Curie']\n",
      "['Max Planck', 'Enrico Fermi']\n"
     ]
    }
   ],
   "source": [
    "for i in range(1,n_group+1):\n",
    "    Group = random.sample(list(set(names_list)),2)\n",
    "    print(Group)\n",
    "\n",
    "#for i in Group:\n",
    "    #print(list(Group))\n",
    "    "
   ]
  }
 ],
 "metadata": {
  "kernelspec": {
   "display_name": "Python 3",
   "language": "python",
   "name": "python3"
  },
  "language_info": {
   "codemirror_mode": {
    "name": "ipython",
    "version": 3
   },
   "file_extension": ".py",
   "mimetype": "text/x-python",
   "name": "python",
   "nbconvert_exporter": "python",
   "pygments_lexer": "ipython3",
   "version": "3.7.1"
  }
 },
 "nbformat": 4,
 "nbformat_minor": 2
}
