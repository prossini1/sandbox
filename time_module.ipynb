{
 "cells": [
  {
   "cell_type": "code",
   "execution_count": 1,
   "metadata": {},
   "outputs": [],
   "source": [
    "import time"
   ]
  },
  {
   "cell_type": "code",
   "execution_count": 4,
   "metadata": {},
   "outputs": [
    {
     "name": "stdout",
     "output_type": "stream",
     "text": [
      "time.struct_time(tm_year=2019, tm_mon=2, tm_mday=5, tm_hour=15, tm_min=39, tm_sec=53, tm_wday=1, tm_yday=36, tm_isdst=0)\n",
      "<class 'time.struct_time'>\n"
     ]
    }
   ],
   "source": [
    "clk = time.localtime()\n",
    "print(clk)\n",
    "print(type(clk))"
   ]
  },
  {
   "cell_type": "code",
   "execution_count": 17,
   "metadata": {},
   "outputs": [
    {
     "name": "stdout",
     "output_type": "stream",
     "text": [
      "15\n",
      "39\n",
      "1\n"
     ]
    }
   ],
   "source": [
    "print(clk.tm_hour)\n",
    "print(clk.tm_min)\n",
    "print(clk.tm_wday)"
   ]
  },
  {
   "cell_type": "code",
   "execution_count": 18,
   "metadata": {},
   "outputs": [
    {
     "name": "stdout",
     "output_type": "stream",
     "text": [
      "Executing step 1\n",
      "Executing step 2\n",
      "Executing step 3\n"
     ]
    }
   ],
   "source": [
    "print('Executing step 1')\n",
    "print('Executing step 2')\n",
    "print('Executing step 3')"
   ]
  },
  {
   "cell_type": "code",
   "execution_count": 19,
   "metadata": {},
   "outputs": [
    {
     "name": "stdout",
     "output_type": "stream",
     "text": [
      "Executing step 1\n",
      "Executing step 2\n",
      "Executing step 3\n"
     ]
    }
   ],
   "source": [
    "print('Executing step 1')\n",
    "print('Executing step 2')\n",
    "time.sleep(5)\n",
    "print('Executing step 3')"
   ]
  },
  {
   "cell_type": "code",
   "execution_count": 20,
   "metadata": {},
   "outputs": [
    {
     "name": "stdout",
     "output_type": "stream",
     "text": [
      "Executing step 1\n",
      "Executing step 3\n",
      "Executing step 2\n"
     ]
    }
   ],
   "source": [
    "print('Executing step 1')\n",
    "print('Executing step 3')\n",
    "print('Executing step 2')"
   ]
  }
 ],
 "metadata": {
  "kernelspec": {
   "display_name": "Python 3",
   "language": "python",
   "name": "python3"
  },
  "language_info": {
   "codemirror_mode": {
    "name": "ipython",
    "version": 3
   },
   "file_extension": ".py",
   "mimetype": "text/x-python",
   "name": "python",
   "nbconvert_exporter": "python",
   "pygments_lexer": "ipython3",
   "version": "3.7.1"
  }
 },
 "nbformat": 4,
 "nbformat_minor": 2
}
